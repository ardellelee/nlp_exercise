{
 "cells": [
  {
   "cell_type": "markdown",
   "metadata": {},
   "source": [
    "# Exercise Description\n",
    "\n",
    "Take  a sample text (paragraph) from anywhere ,extract the following.\n",
    "1. noun phrases (use noun_chunk extraction using textacy)\n",
    "2. extract main verbs \n",
    "3. use dependency parsing to extract words with the dependency relation (*mod)\n",
    "4. for all the words identified in last 3 steps, rank them based on multiple text ranking mechanisms"
   ]
  },
  {
   "cell_type": "markdown",
   "metadata": {},
   "source": [
    "## Preparation"
   ]
  },
  {
   "cell_type": "code",
   "execution_count": 5,
   "metadata": {},
   "outputs": [
    {
     "name": "stdout",
     "output_type": "stream",
     "text": [
      "textacy version: 0.4.1\n",
      "spacy version: 1.9.0\n"
     ]
    }
   ],
   "source": [
    "import textacy\n",
    "import textacy.datasets\n",
    "import spacy\n",
    "from __future__ import unicode_literals\n",
    "from collections import Iterator\n",
    "from collections import Iterable\n",
    "\n",
    "\n",
    "print 'textacy version:', textacy.__version__\n",
    "print 'spacy version:', spacy.__version__\n"
   ]
  },
  {
   "cell_type": "code",
   "execution_count": 39,
   "metadata": {
    "collapsed": true
   },
   "outputs": [],
   "source": [
    "## self-defined function, iterator -> iterable\n",
    "def iterator2list(iterator):\n",
    "    list_iterable=[]\n",
    "    while True:\n",
    "      try:\n",
    "        x = next(iterator)\n",
    "        list_iterable.append(textacy.spacy_utils.normalized_str(x))\n",
    "      except StopIteration:\n",
    "        break\n",
    "    print 'Length of iterables: ',len(list_iterable)\n",
    "    print 'Iterables are: ', list_iterable\n",
    "    return list_iterable"
   ]
  },
  {
   "cell_type": "markdown",
   "metadata": {},
   "source": [
    "## Load text"
   ]
  },
  {
   "cell_type": "code",
   "execution_count": 36,
   "metadata": {
    "collapsed": true
   },
   "outputs": [],
   "source": [
    "nlp=spacy.load('en')\n",
    "\n",
    "doc = nlp(\"Ancient Greek art saw the veneration of the \\\n",
    "animal form and the development of equivalent skills to show musculature, \\\n",
    "poise, beauty and anatomically correct proportions. Ancient Roman art depicted gods \\\n",
    "as idealized humans, shown with characteristic distinguishing features (e.g. Jupiter's thunderbolt). \\\n",
    "In Byzantine and Gothic art of the Middle Ages, the dominance of the church insisted \\\n",
    "on the expression of biblical and not material truths. Eastern art has generally worked in a style \\\n",
    "akin to Western medieval art, namely a concentration on surface patterning and local colour (meaning \\\n",
    "the plain colour of an object, such as basic red for a red robe, rather than the modulations of that \\\n",
    "colour brought about by light, shade and reflection). A characteristic of this style is that the local \\\n",
    "colour is often defined by an outline (a contemporary equivalent is the cartoon). This is evident in, \\\n",
    "for example, the art of India, Tibet and Japan. Religious Islamic art forbids iconography, and expresses \\\n",
    "religious ideas through geometry instead. The physical and rational certainties depicted by the 19th-century \\\n",
    "Enlightenment were shattered not only by new discoveries of relativity by Einstein and of unseen psychology \\\n",
    "by Freud, but also by unprecedented technological development. Paradoxically the expressions of new technologies \\\n",
    "were greatly influenced by the ancient tribal arts of Africa and Oceania, through the works of Paul Gauguin and \\\n",
    "the Post-Impressionists,Pablo Picasso and the Cubists, as well as the Futurists and others.\")\n"
   ]
  },
  {
   "cell_type": "markdown",
   "metadata": {},
   "source": [
    "## Information Extraction\n",
    "\n",
    "### Find noun chunks"
   ]
  },
  {
   "cell_type": "code",
   "execution_count": 40,
   "metadata": {},
   "outputs": [
    {
     "name": "stdout",
     "output_type": "stream",
     "text": [
      "Length of iterables:  61\n",
      "Iterables are:  [u'ancient greek art', u'veneration', u'animal form', u'development', u'equivalent skill', u'musculature , poise , beauty and anatomically correct proportion', u'art', u'idealized human', u'characteristic distinguishing feature', u'byzantine and gothic art', u'Middle Ages', u'dominance', u'church', u'expression', u'biblical and not material truth', u'art', u'style', u'western medieval art', u'surface patterning', u'local colour', u'plain colour', u'object', u'red robe', u'modulation', u'colour', u'light', u'shade', u'reflection', u'characteristic', u'style', u'local colour', u'outline', u'contemporary equivalent', u'cartoon', u'example', u'India', u'Tibet', u'Japan', u'religious islamic art', u'iconography', u'religious idea', u'geometry', u'physical and rational certainty', u'19th - century Enlightenment', u'new discovery', u'relativity', u'Einstein', u'unseen psychology', u'Freud', u'unprecedented technological development', u'expression', u'new technology', u'ancient tribal art', u'Africa', u'Oceania', u'work', u'Paul Gauguin', u'Post - Impressionists', u'Pablo Picasso', u'futurist', u'other']\n"
     ]
    },
    {
     "data": {
      "text/plain": [
       "unicode"
      ]
     },
     "execution_count": 40,
     "metadata": {},
     "output_type": "execute_result"
    }
   ],
   "source": [
    "nouns=textacy.extract.noun_chunks(doc, drop_determiners=True, min_freq=1)\n",
    "\n",
    "list_noun=iterator2list(nouns)"
   ]
  },
  {
   "cell_type": "markdown",
   "metadata": {},
   "source": [
    "### Find main verbs"
   ]
  },
  {
   "cell_type": "code",
   "execution_count": 32,
   "metadata": {},
   "outputs": [
    {
     "name": "stdout",
     "output_type": "stream",
     "text": [
      "[saw, show, depicted, shown, insisted, worked, meaning, brought, is, defined, is, is, forbids, expresses, depicted, shattered, influenced]\n"
     ]
    }
   ],
   "source": [
    "verbs=textacy.spacy_utils.get_main_verbs_of_sent(doc)\n",
    "print verbs"
   ]
  },
  {
   "cell_type": "markdown",
   "metadata": {},
   "source": [
    "### Find subjects and objects of a verb"
   ]
  },
  {
   "cell_type": "code",
   "execution_count": 11,
   "metadata": {
    "scrolled": true
   },
   "outputs": [
    {
     "name": "stdout",
     "output_type": "stream",
     "text": [
      "[[veneration], [proportions], [], [], [], [], [colour], [], [], [], [cartoon], [], [iconography], [ideas], [], [], []]\n",
      "[[art], [], [art], [], [dominance, church], [Eastern, art], [], [modulations], [characteristic], [colour], [equivalent], [This], [art], [], [], [certainties], [expressions]]\n"
     ]
    }
   ],
   "source": [
    "verb_obj=[]\n",
    "verb_sub=[]\n",
    "\n",
    "for verb in verbs:\n",
    "    verb_obj.append(textacy.spacy_utils.get_objects_of_verb(verb))\n",
    "    verb_sub.append(textacy.spacy_utils.get_subjects_of_verb(verb))\n",
    "\n",
    "print verb_obj\n",
    "print verb_sub"
   ]
  },
  {
   "cell_type": "markdown",
   "metadata": {},
   "source": [
    "### Extract NER"
   ]
  },
  {
   "cell_type": "code",
   "execution_count": 13,
   "metadata": {},
   "outputs": [
    {
     "data": {
      "text/plain": [
       "<generator object named_entities at 0x14e4154b0>"
      ]
     },
     "execution_count": 13,
     "metadata": {},
     "output_type": "execute_result"
    }
   ],
   "source": [
    "textacy.extract.named_entities(doc, include_types=None, exclude_types=None, drop_determiners=True, min_freq=1)"
   ]
  },
  {
   "cell_type": "markdown",
   "metadata": {},
   "source": [
    "### Dependency parsing"
   ]
  },
  {
   "cell_type": "code",
   "execution_count": 14,
   "metadata": {},
   "outputs": [
    {
     "name": "stdout",
     "output_type": "stream",
     "text": [
      "(u'Ancient Greek art', u'art', u'nsubj', u'saw')\n",
      "(u'the veneration', u'veneration', u'dobj', u'saw')\n",
      "(u'the animal form', u'form', u'pobj', u'of')\n",
      "(u'the development', u'development', u'conj', u'form')\n",
      "(u'equivalent skills', u'skills', u'pobj', u'of')\n",
      "(u'musculature, poise, beauty and anatomically correct proportions', u'proportions', u'dobj', u'show')\n",
      "(u'art', u'art', u'nsubj', u'depicted')\n",
      "(u'idealized humans', u'humans', u'pobj', u'as')\n",
      "(u'characteristic distinguishing features', u'features', u'pobj', u'with')\n",
      "(u'Byzantine and Gothic art', u'art', u'pobj', u'In')\n",
      "(u'the Middle Ages', u'Ages', u'pobj', u'of')\n",
      "(u'the dominance', u'dominance', u'nsubj', u'insisted')\n",
      "(u'the church', u'church', u'nsubj', u'insisted')\n",
      "(u'the expression', u'expression', u'pobj', u'on')\n",
      "(u'biblical and not material truths', u'truths', u'pobj', u'of')\n",
      "(u'art', u'art', u'nsubj', u'worked')\n",
      "(u'a style', u'style', u'pobj', u'in')\n",
      "(u'Western medieval art', u'art', u'pobj', u'to')\n",
      "(u'surface patterning', u'patterning', u'pobj', u'on')\n",
      "(u'local colour', u'colour', u'conj', u'patterning')\n",
      "(u'the plain colour', u'colour', u'dobj', u'meaning')\n",
      "(u'an object', u'object', u'pobj', u'of')\n",
      "(u'a red robe', u'robe', u'pobj', u'for')\n",
      "(u'the modulations', u'modulations', u'nsubj', u'brought')\n",
      "(u'that colour', u'colour', u'pobj', u'of')\n",
      "(u'light', u'light', u'pobj', u'by')\n",
      "(u'shade', u'shade', u'conj', u'light')\n",
      "(u'reflection', u'reflection', u'conj', u'shade')\n",
      "(u'A characteristic', u'characteristic', u'nsubj', u'is')\n",
      "(u'this style', u'style', u'pobj', u'of')\n",
      "(u'the local colour', u'colour', u'nsubjpass', u'defined')\n",
      "(u'an outline', u'outline', u'pobj', u'by')\n",
      "(u'a contemporary equivalent', u'equivalent', u'nsubj', u'is')\n",
      "(u'the cartoon', u'cartoon', u'attr', u'is')\n",
      "(u'example', u'example', u'pobj', u'for')\n",
      "(u'India', u'India', u'pobj', u'of')\n",
      "(u'Tibet', u'Tibet', u'conj', u'India')\n",
      "(u'Japan', u'Japan', u'conj', u'Tibet')\n",
      "(u'Religious Islamic art', u'art', u'nsubj', u'forbids')\n",
      "(u'iconography', u'iconography', u'dobj', u'forbids')\n",
      "(u'religious ideas', u'ideas', u'dobj', u'expresses')\n",
      "(u'geometry', u'geometry', u'pobj', u'through')\n",
      "(u'The physical and rational certainties', u'certainties', u'nsubjpass', u'shattered')\n",
      "(u'the 19th-century Enlightenment', u'Enlightenment', u'pobj', u'by')\n",
      "(u'new discoveries', u'discoveries', u'pobj', u'by')\n",
      "(u'relativity', u'relativity', u'pobj', u'of')\n",
      "(u'Einstein', u'Einstein', u'pobj', u'by')\n",
      "(u'unseen psychology', u'psychology', u'pobj', u'of')\n",
      "(u'Freud', u'Freud', u'pobj', u'by')\n",
      "(u'unprecedented technological development', u'development', u'pobj', u'by')\n",
      "(u'the expressions', u'expressions', u'nsubjpass', u'influenced')\n",
      "(u'new technologies', u'technologies', u'pobj', u'of')\n",
      "(u'the ancient tribal arts', u'arts', u'pobj', u'by')\n",
      "(u'Africa', u'Africa', u'pobj', u'of')\n",
      "(u'Oceania', u'Oceania', u'conj', u'Africa')\n",
      "(u'the works', u'works', u'pobj', u'through')\n",
      "(u'Paul Gauguin', u'Gauguin', u'pobj', u'of')\n",
      "(u'the Post-Impressionists', u'Impressionists', u'conj', u'Gauguin')\n",
      "(u'Pablo Picasso', u'Picasso', u'conj', u'Impressionists')\n",
      "(u'the Futurists', u'Futurists', u'pobj', u'as')\n",
      "(u'others', u'others', u'conj', u'Futurists')\n"
     ]
    }
   ],
   "source": [
    "for np in doc.noun_chunks:\n",
    "    print(np.text, np.root.text, np.root.dep_, np.root.head.text)"
   ]
  },
  {
   "cell_type": "code",
   "execution_count": 34,
   "metadata": {},
   "outputs": [
    {
     "data": {
      "text/plain": [
       "<networkx.classes.graph.Graph at 0x1115a1450>"
      ]
     },
     "execution_count": 34,
     "metadata": {},
     "output_type": "execute_result"
    }
   ],
   "source": [
    "# words to semantic network\n",
    "terms = list_noun + verbs\n",
    "textacy.network.terms_to_semantic_network(list_noun, normalize='lemma', window_width=10, edge_weighting='cooc_freq')"
   ]
  },
  {
   "cell_type": "markdown",
   "metadata": {},
   "source": [
    "## Ranking"
   ]
  },
  {
   "cell_type": "code",
   "execution_count": 13,
   "metadata": {},
   "outputs": [
    {
     "name": "stdout",
     "output_type": "stream",
     "text": [
      "[(u'art', 0.058296831753183724), (u'colour', 0.02445158388509562), (u'ancient', 0.01902886436016287), (u'equivalent', 0.016555927532284038), (u'new', 0.016473484332319183), (u'characteristic', 0.016360840169038025), (u'development', 0.016245045136444307), (u'expression', 0.016211642653313454), (u'religious', 0.016177026687414515), (u'style', 0.015231850751394854)]\n"
     ]
    }
   ],
   "source": [
    "# extract key terms with binary ranking\n",
    "\n",
    "keyterm=textacy.keyterms.key_terms_from_semantic_network(doc, normalize=u'lemma', window_width=2, \n",
    "                                                 edge_weighting=u'binary', ranking_algo=u'pagerank', \n",
    "                                                 join_key_words=False, n_keyterms=10)\n",
    "\n",
    "print keyterm"
   ]
  },
  {
   "cell_type": "markdown",
   "metadata": {},
   "source": [
    "### textrank"
   ]
  },
  {
   "cell_type": "code",
   "execution_count": 18,
   "metadata": {},
   "outputs": [
    {
     "data": {
      "text/plain": [
       "[(u'art', 0.058296831753183724),\n",
       " (u'colour', 0.02445158388509562),\n",
       " (u'ancient', 0.01902886436016287),\n",
       " (u'equivalent', 0.016555927532284038),\n",
       " (u'new', 0.016473484332319183),\n",
       " (u'characteristic', 0.016360840169038025),\n",
       " (u'development', 0.016245045136444307),\n",
       " (u'expression', 0.016211642653313454),\n",
       " (u'religious', 0.016177026687414515),\n",
       " (u'style', 0.015231850751394854),\n",
       " (u'red', 0.012967383068639017),\n",
       " (u'cubists', 0.012311564779367429),\n",
       " (u'local', 0.012041353203052158),\n",
       " (u'picasso', 0.011559073929023183),\n",
       " (u'pablo', 0.011128498094486215),\n",
       " (u'impressionists', 0.010873919562131388),\n",
       " (u'post', 0.01069949095203565),\n",
       " (u'gauguin', 0.010549575538327924),\n",
       " (u'paul', 0.01036546578578247),\n",
       " (u'unseen', 0.01027490013707197)]"
      ]
     },
     "execution_count": 18,
     "metadata": {},
     "output_type": "execute_result"
    }
   ],
   "source": [
    "textacy.keyterms.textrank(doc, normalize=u'lemma', n_keyterms=20)"
   ]
  },
  {
   "cell_type": "markdown",
   "metadata": {},
   "source": [
    "### single rank"
   ]
  },
  {
   "cell_type": "code",
   "execution_count": 4,
   "metadata": {},
   "outputs": [
    {
     "ename": "NameError",
     "evalue": "name 'doc' is not defined",
     "output_type": "error",
     "traceback": [
      "\u001b[0;31m---------------------------------------------------------------------------\u001b[0m",
      "\u001b[0;31mNameError\u001b[0m                                 Traceback (most recent call last)",
      "\u001b[0;32m<ipython-input-4-c7e3dee3f2fe>\u001b[0m in \u001b[0;36m<module>\u001b[0;34m()\u001b[0m\n\u001b[0;32m----> 1\u001b[0;31m \u001b[0mtextacy\u001b[0m\u001b[0;34m.\u001b[0m\u001b[0mkeyterms\u001b[0m\u001b[0;34m.\u001b[0m\u001b[0msinglerank\u001b[0m\u001b[0;34m(\u001b[0m\u001b[0mdoc\u001b[0m\u001b[0;34m,\u001b[0m \u001b[0mnormalize\u001b[0m\u001b[0;34m=\u001b[0m\u001b[0;34mu'lemma'\u001b[0m\u001b[0;34m,\u001b[0m \u001b[0mn_keyterms\u001b[0m\u001b[0;34m=\u001b[0m\u001b[0;36m20\u001b[0m\u001b[0;34m)\u001b[0m\u001b[0;34m\u001b[0m\u001b[0m\n\u001b[0m",
      "\u001b[0;31mNameError\u001b[0m: name 'doc' is not defined"
     ]
    }
   ],
   "source": [
    "textacy.keyterms.singlerank(doc, normalize=u'lemma', n_keyterms=20)"
   ]
  },
  {
   "cell_type": "markdown",
   "metadata": {},
   "source": [
    "### sgrank"
   ]
  },
  {
   "cell_type": "code",
   "execution_count": 20,
   "metadata": {},
   "outputs": [
    {
     "data": {
      "text/plain": [
       "[(u'ancient tribal art', 0.12700538499040714),\n",
       " (u'western medieval art', 0.11797023598028958),\n",
       " (u'religious islamic art', 0.1158523332318917),\n",
       " (u'ancient greek art', 0.10322531320900902),\n",
       " (u'ancient roman art', 0.10105708602201213),\n",
       " (u'local colour', 0.0265430195514136),\n",
       " (u'red robe', 0.0147519202596656),\n",
       " (u'plain colour', 0.014678230577967506),\n",
       " (u'basic red', 0.014127170757887447),\n",
       " (u'development', 0.013569826580984523),\n",
       " (u'middle ages', 0.012932281003413731),\n",
       " (u'e.g. jupiter', 0.012528473845217079),\n",
       " (u'style akin', 0.012519476891149916),\n",
       " (u'eastern art', 0.01251777766313121),\n",
       " (u'gothic art', 0.012272311479141271),\n",
       " (u'equivalent skill', 0.0122039410232492),\n",
       " (u'surface patterning', 0.011914668218461025),\n",
       " (u'distinguishing feature', 0.011783632189874396),\n",
       " (u'material truth', 0.011775677088686886),\n",
       " (u'correct proportion', 0.01152077873580935)]"
      ]
     },
     "execution_count": 20,
     "metadata": {},
     "output_type": "execute_result"
    }
   ],
   "source": [
    "textacy.keyterms.sgrank(doc, ngrams=(1, 2, 3, 4, 5, 6), normalize=u'lemma', window_width=1500, n_keyterms=20, idf=None)"
   ]
  }
 ],
 "metadata": {
  "kernelspec": {
   "display_name": "Python 2",
   "language": "python",
   "name": "python2"
  },
  "language_info": {
   "codemirror_mode": {
    "name": "ipython",
    "version": 2
   },
   "file_extension": ".py",
   "mimetype": "text/x-python",
   "name": "python",
   "nbconvert_exporter": "python",
   "pygments_lexer": "ipython2",
   "version": "2.7.13"
  }
 },
 "nbformat": 4,
 "nbformat_minor": 2
}
