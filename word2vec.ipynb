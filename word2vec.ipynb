{
 "cells": [
  {
   "cell_type": "markdown",
   "metadata": {},
   "source": [
    "## word2vec"
   ]
  },
  {
   "cell_type": "code",
   "execution_count": 49,
   "metadata": {},
   "outputs": [
    {
     "name": "stdout",
     "output_type": "stream",
     "text": [
      "['bromwell', 'high', 'is', 'a', 'cartoon', 'comedy', 'it', 'ran', 'at', 'the', 'same', 'time', 'as', 'some', 'other', 'programs', 'about', 'school', 'life', 'such', 'as', 'teachers', 'my', '35', 'years', 'in', 'the', 'teaching', 'profession', 'lead', 'me', 'to', 'believe', 'that', 'bromwell', 'highs', 'satire', 'is', 'much', 'closer', 'to', 'reality', 'than', 'is', 'teachers', 'the', 'scramble', 'to', 'survive', 'financially', 'the', 'insightful', 'students', 'who', 'can', 'see', 'right', 'through', 'their', 'pathetic', 'teachers', 'pomp', 'the', 'pettiness', 'of', 'the', 'whole', 'situation', 'all', 'remind', 'me', 'of', 'the', 'schools', 'i', 'knew', 'and', 'their', 'students', 'when', 'i', 'saw', 'the', 'episode', 'in', 'which', 'a', 'student', 'repeatedly', 'tried', 'to', 'burn', 'down', 'the', 'school', 'i', 'immediately', 'recalled', '', 'at', '', 'high', 'a', 'classic', 'line', 'inspector', 'im', 'here', 'to', 'sack', 'one', 'of', 'your', 'teachers', 'student', 'welcome', 'to', 'bromwell', 'high', 'i', 'expect', 'that', 'many', 'adults', 'of', 'my', 'age', 'think', 'that', 'bromwell', 'high', 'is', 'far', 'fetched', 'what', 'a', 'pity', 'that', 'it', 'isnt']\n"
     ]
    }
   ],
   "source": [
    "import string\n",
    "import gensim\n",
    "from gensim import models\n",
    "\n",
    "# read files and split to words\n",
    "f = '/Users/ardellelee/Desktop/data/0_9.txt'\n",
    "for line in open(f):\n",
    "    texts = [text for text in line.lower().split()]  \n",
    "    texts = [text.translate(None, string.punctuation) for text in texts] \n",
    "print texts"
   ]
  },
  {
   "cell_type": "code",
   "execution_count": 39,
   "metadata": {},
   "outputs": [
    {
     "name": "stdout",
     "output_type": "stream",
     "text": [
      "Word2Vec(vocab=92, size=100, alpha=0.025)\n"
     ]
    }
   ],
   "source": [
    "# word2vec model\n",
    "model = gensim.models.Word2Vec([texts], size=100, window=5, min_count=1, workers=4)\n",
    "\n",
    "model.save(\"model.word2vec\")\n",
    "print(model)"
   ]
  },
  {
   "cell_type": "code",
   "execution_count": 51,
   "metadata": {},
   "outputs": [
    {
     "data": {
      "text/plain": [
       "array([  3.37865879e-03,   3.28831701e-03,  -4.18940932e-03,\n",
       "        -1.89961749e-03,   4.70168842e-03,  -3.95148853e-03,\n",
       "         3.46579473e-03,  -2.31435965e-03,   3.93820321e-03,\n",
       "         4.91171086e-04,  -4.82577085e-03,   2.73551396e-03,\n",
       "         2.42006197e-03,  -2.79706647e-03,  -3.55122727e-03,\n",
       "         3.63100530e-03,   4.54002619e-03,  -6.29983377e-04,\n",
       "        -4.85184556e-03,  -1.78805611e-04,   2.57958705e-03,\n",
       "         2.33917590e-03,  -2.50906777e-03,   5.14900603e-04,\n",
       "        -2.14807293e-03,  -3.71929398e-03,  -1.84945238e-05,\n",
       "         1.28205720e-04,   1.34782703e-03,   4.99846973e-03,\n",
       "         2.00031558e-03,   9.98484553e-04,  -3.55046033e-03,\n",
       "         3.64268664e-03,   3.32134753e-03,   1.34688686e-04,\n",
       "         1.81385665e-03,  -8.16292537e-04,  -3.13478312e-03,\n",
       "        -2.96940887e-03,   2.77054403e-03,  -4.47312108e-04,\n",
       "        -4.56487481e-03,   1.73767935e-03,  -3.15780053e-04,\n",
       "        -1.18532008e-03,  -3.51529522e-03,   1.00721989e-03,\n",
       "         3.65701481e-03,  -3.26777808e-04,  -4.25059674e-03,\n",
       "        -3.53353284e-03,  -2.83674011e-03,  -3.68555752e-03,\n",
       "         1.42589328e-03,  -4.32424666e-03,  -4.47693421e-03,\n",
       "        -8.80106090e-05,   3.66611959e-04,  -1.28088647e-03,\n",
       "         1.54962041e-03,  -2.38993810e-03,  -4.65118745e-03,\n",
       "        -5.01509849e-03,   2.62450264e-03,   1.14771107e-03,\n",
       "         1.12682476e-03,   3.87052866e-03,  -2.41046585e-03,\n",
       "        -1.87334162e-03,  -1.86201651e-03,   4.99809813e-03,\n",
       "         2.47089285e-03,   3.91777093e-03,  -4.47666412e-03,\n",
       "        -4.14847862e-04,  -4.22344683e-03,   6.31877687e-04,\n",
       "        -3.41493171e-03,   5.96009369e-04,   4.41381382e-03,\n",
       "        -2.77922116e-03,   1.96749228e-03,   3.61148239e-04,\n",
       "         1.21546362e-03,  -1.37091032e-03,   4.50963737e-04,\n",
       "        -2.29440324e-04,  -2.02099280e-03,  -2.64003919e-03,\n",
       "         4.08349978e-03,  -3.15654348e-03,  -1.49908743e-03,\n",
       "        -2.20445963e-03,   1.69154804e-03,  -2.34958855e-03,\n",
       "         2.45977193e-04,   9.63399361e-04,  -1.78236305e-03,\n",
       "         7.77626818e-04], dtype=float32)"
      ]
     },
     "execution_count": 51,
     "metadata": {},
     "output_type": "execute_result"
    }
   ],
   "source": [
    "# check model\n",
    "model['bromwell']"
   ]
  },
  {
   "cell_type": "code",
   "execution_count": 50,
   "metadata": {},
   "outputs": [
    {
     "data": {
      "text/plain": [
       "-0.114629263620314"
      ]
     },
     "execution_count": 50,
     "metadata": {},
     "output_type": "execute_result"
    }
   ],
   "source": [
    "model.similarity('teachers', 'students')"
   ]
  },
  {
   "cell_type": "code",
   "execution_count": 42,
   "metadata": {},
   "outputs": [
    {
     "data": {
      "text/plain": [
       "[('whole', 0.23792517185211182),\n",
       " ('one', 0.1994488388299942),\n",
       " ('than', 0.19796141982078552),\n",
       " ('classic', 0.18242147564888),\n",
       " ('think', 0.16298896074295044),\n",
       " ('far', 0.15710151195526123),\n",
       " ('schools', 0.15505558252334595),\n",
       " ('me', 0.14190302789211273),\n",
       " ('such', 0.14071935415267944),\n",
       " ('time', 0.14030654728412628)]"
      ]
     },
     "execution_count": 42,
     "metadata": {},
     "output_type": "execute_result"
    }
   ],
   "source": [
    "model.wv.most_similar(positive=['teachers', 'students'], negative=['students'])"
   ]
  },
  {
   "cell_type": "markdown",
   "metadata": {},
   "source": [
    "## doc2vec"
   ]
  },
  {
   "cell_type": "code",
   "execution_count": 43,
   "metadata": {},
   "outputs": [
    {
     "name": "stdout",
     "output_type": "stream",
     "text": [
      "20\n",
      "['0_9.txt', '10_9.txt', '11_9.txt', '12_9.txt', '13_7.txt', '14_10.txt', '15_7.txt', '16_7.txt', '17_9.txt', '18_7.txt', '19_10.txt', '1_7.txt', '2_9.txt', '3_10.txt', '4_8.txt', '5_10.txt', '6_10.txt', '7_7.txt', '8_7.txt', '9_7.txt']\n"
     ]
    }
   ],
   "source": [
    "from os import listdir\n",
    "from os.path import isfile, join\n",
    "\n",
    "## Read files. Use file name as original label\n",
    "\n",
    "myDirPath = \"/Users/ardellelee/Desktop/data\"\n",
    "\n",
    "docLabels = []\n",
    "docLabels = [f for f in listdir(myDirPath) if f.endswith('.txt')]\n",
    "\n",
    "print len(docLabels)\n",
    "print docLabels"
   ]
  },
  {
   "cell_type": "code",
   "execution_count": 44,
   "metadata": {},
   "outputs": [
    {
     "name": "stdout",
     "output_type": "stream",
     "text": [
      "LabeledSentence(['liked', 'stanley', '', 'iris', 'very', 'much', 'acting', 'was', 'very', 'good', 'story', 'had', 'a', 'unique', 'and', 'interesting', 'arrangement', 'the', 'absence', 'of', 'violence', 'and', 'porno', 'sex', 'was', 'refreshing', 'characters', 'were', 'very', 'convincing', 'and', 'felt', 'like', 'you', 'could', 'understand', 'their', 'feelings', 'very', 'enjoyable', 'movie'], ['DOC_11_9.txt'])\n"
     ]
    }
   ],
   "source": [
    "import string\n",
    "\n",
    "# Read file contents\n",
    "\n",
    "docs = []\n",
    "for label in docLabels:\n",
    "    text = open(myDirPath+\"/\"+label,'r').read()\n",
    "    words = [word for word in text.lower().split()]\n",
    "    words = [word.translate(None, string.punctuation) for word in words]\n",
    "    doc = gensim.models.doc2vec.LabeledSentence(words=words, tags=['DOC_%s' % label])\n",
    "    docs.append(doc)\n",
    "print docs[2]"
   ]
  },
  {
   "cell_type": "code",
   "execution_count": 45,
   "metadata": {},
   "outputs": [
    {
     "name": "stdout",
     "output_type": "stream",
     "text": [
      "['DOC_0_9.txt']\n",
      "['DOC_10_9.txt']\n",
      "['DOC_11_9.txt']\n",
      "['DOC_12_9.txt']\n",
      "['DOC_13_7.txt']\n",
      "['DOC_14_10.txt']\n",
      "['DOC_15_7.txt']\n",
      "['DOC_16_7.txt']\n",
      "['DOC_17_9.txt']\n",
      "['DOC_18_7.txt']\n",
      "['DOC_19_10.txt']\n",
      "['DOC_1_7.txt']\n",
      "['DOC_2_9.txt']\n",
      "['DOC_3_10.txt']\n",
      "['DOC_4_8.txt']\n",
      "['DOC_5_10.txt']\n",
      "['DOC_6_10.txt']\n",
      "['DOC_7_7.txt']\n",
      "['DOC_8_7.txt']\n",
      "['DOC_9_7.txt']\n"
     ]
    }
   ],
   "source": [
    "# new labels\n",
    "for doc in docs:\n",
    "    print doc.tags"
   ]
  },
  {
   "cell_type": "code",
   "execution_count": 46,
   "metadata": {
    "collapsed": true
   },
   "outputs": [],
   "source": [
    "# doc2vec model\n",
    "model1 = gensim.models.Doc2Vec(size=300, window=10, min_count=5, workers=11,alpha=0.025, min_alpha=0.025)\n",
    "model1.build_vocab(docs)\n",
    "\n",
    "model.save(\"model1.doc2vec\")"
   ]
  },
  {
   "cell_type": "code",
   "execution_count": 47,
   "metadata": {},
   "outputs": [
    {
     "name": "stdout",
     "output_type": "stream",
     "text": [
      "[('DOC_19_10.txt', 0.11412099003791809), ('DOC_15_7.txt', 0.10329915583133698), ('DOC_8_7.txt', 0.0888400748372078), ('DOC_17_9.txt', 0.06455331295728683), ('DOC_1_7.txt', 0.03995528072118759), ('DOC_16_7.txt', 0.03599502146244049), ('DOC_14_10.txt', 0.03135249391198158), ('DOC_11_9.txt', 0.012747175991535187), ('DOC_18_7.txt', 0.010419502854347229), ('DOC_6_10.txt', 0.0017809867858886719)]\n"
     ]
    }
   ],
   "source": [
    "# check model\n",
    "print model1.docvecs.most_similar('DOC_0_9.txt')"
   ]
  },
  {
   "cell_type": "code",
   "execution_count": null,
   "metadata": {
    "collapsed": true
   },
   "outputs": [],
   "source": []
  }
 ],
 "metadata": {
  "kernelspec": {
   "display_name": "Python 2",
   "language": "python",
   "name": "python2"
  },
  "language_info": {
   "codemirror_mode": {
    "name": "ipython",
    "version": 2
   },
   "file_extension": ".py",
   "mimetype": "text/x-python",
   "name": "python",
   "nbconvert_exporter": "python",
   "pygments_lexer": "ipython2",
   "version": "2.7.13"
  }
 },
 "nbformat": 4,
 "nbformat_minor": 2
}
